{
 "cells": [
  {
   "cell_type": "code",
   "execution_count": 4,
   "id": "aa7a04fd-8ec6-4ba5-b80b-d69695a3e346",
   "metadata": {},
   "outputs": [],
   "source": [
    "import tensorflow as tf\n",
    "from tensorflow import keras\n",
    "import pandas as pd\n",
    "import numpy as np\n"
   ]
  },
  {
   "cell_type": "code",
   "execution_count": 5,
   "id": "c2914ead-d48d-4e60-8aa0-70e2c1ffbd97",
   "metadata": {},
   "outputs": [],
   "source": [
    "data='tujhe dekha to yeh/njana sanam/npyar hota hai/ndewana sanam/nab yahan se kahan jahein hum/ntere bahon ma mar ja hain hum'"
   ]
  },
  {
   "cell_type": "code",
   "execution_count": 6,
   "id": "caf87cf9-dab3-413a-90a5-63040dd66485",
   "metadata": {},
   "outputs": [],
   "source": [
    "data=data.split('/n')"
   ]
  },
  {
   "cell_type": "code",
   "execution_count": 7,
   "id": "d2440b04-5ee4-4a7a-88e4-e078b9ab801f",
   "metadata": {},
   "outputs": [],
   "source": [
    "token=keras.preprocessing.text.Tokenizer()"
   ]
  },
  {
   "cell_type": "code",
   "execution_count": 8,
   "id": "52b5a273-5f48-487f-823b-1dfafa1b2c0b",
   "metadata": {},
   "outputs": [],
   "source": [
    "token.fit_on_texts(data)"
   ]
  },
  {
   "cell_type": "code",
   "execution_count": 9,
   "id": "5f1beabb-ea75-4f80-bd77-2f3a0f9e2375",
   "metadata": {},
   "outputs": [
    {
     "data": {
      "text/plain": [
       "{1: 'sanam',\n",
       " 2: 'hum',\n",
       " 3: 'tujhe',\n",
       " 4: 'dekha',\n",
       " 5: 'to',\n",
       " 6: 'yeh',\n",
       " 7: 'jana',\n",
       " 8: 'pyar',\n",
       " 9: 'hota',\n",
       " 10: 'hai',\n",
       " 11: 'dewana',\n",
       " 12: 'ab',\n",
       " 13: 'yahan',\n",
       " 14: 'se',\n",
       " 15: 'kahan',\n",
       " 16: 'jahein',\n",
       " 17: 'tere',\n",
       " 18: 'bahon',\n",
       " 19: 'ma',\n",
       " 20: 'mar',\n",
       " 21: 'ja',\n",
       " 22: 'hain'}"
      ]
     },
     "execution_count": 9,
     "metadata": {},
     "output_type": "execute_result"
    }
   ],
   "source": [
    "token.index_word"
   ]
  },
  {
   "cell_type": "code",
   "execution_count": 10,
   "id": "d45027bf-278b-4ba4-9873-6d06c11dd2b5",
   "metadata": {},
   "outputs": [],
   "source": [
    "data_token=token.texts_to_sequences(data)"
   ]
  },
  {
   "cell_type": "code",
   "execution_count": 11,
   "id": "2dbfdff7-c62f-4aee-94e4-75924a9baf23",
   "metadata": {},
   "outputs": [
    {
     "data": {
      "text/plain": [
       "[[3, 4, 5, 6],\n",
       " [7, 1],\n",
       " [8, 9, 10],\n",
       " [11, 1],\n",
       " [12, 13, 14, 15, 16, 2],\n",
       " [17, 18, 19, 20, 21, 22, 2]]"
      ]
     },
     "execution_count": 11,
     "metadata": {},
     "output_type": "execute_result"
    }
   ],
   "source": [
    "data_token"
   ]
  },
  {
   "cell_type": "code",
   "execution_count": 12,
   "id": "3064035a-11ac-4980-b2c5-690984e50f08",
   "metadata": {},
   "outputs": [
    {
     "name": "stdout",
     "output_type": "stream",
     "text": [
      "[3, 4, 5]\n",
      "[7, 1]\n",
      "[8, 9, 10]\n",
      "[11, 1]\n",
      "[12, 13, 14]\n",
      "[17, 18, 19]\n"
     ]
    }
   ],
   "source": [
    "for i in data_token:\n",
    "    print(i[0:2+1])"
   ]
  },
  {
   "cell_type": "code",
   "execution_count": 13,
   "id": "aa33b979-78a2-4872-b2e7-2fe4812ffde0",
   "metadata": {},
   "outputs": [],
   "source": [
    "input_sequences = []\n",
    "for line in data:\n",
    "    token_list = token.texts_to_sequences([line])[0]\n",
    "    for i in range(1, len(token_list)):\n",
    "        n_gram_sequence = token_list[:i+1]\n",
    "        input_sequences.append(n_gram_sequence)\n"
   ]
  },
  {
   "cell_type": "code",
   "execution_count": 14,
   "id": "0db2a9e6-646e-4582-908b-33ee68914785",
   "metadata": {},
   "outputs": [
    {
     "name": "stdout",
     "output_type": "stream",
     "text": [
      "[3, 4]\n",
      "[3, 4, 5]\n",
      "[3, 4, 5, 6]\n",
      "[7, 1]\n",
      "[8, 9]\n",
      "[8, 9, 10]\n",
      "[11, 1]\n",
      "[12, 13]\n",
      "[12, 13, 14]\n",
      "[12, 13, 14, 15]\n",
      "[12, 13, 14, 15, 16]\n",
      "[12, 13, 14, 15, 16, 2]\n",
      "[17, 18]\n",
      "[17, 18, 19]\n",
      "[17, 18, 19, 20]\n",
      "[17, 18, 19, 20, 21]\n",
      "[17, 18, 19, 20, 21, 22]\n",
      "[17, 18, 19, 20, 21, 22, 2]\n"
     ]
    }
   ],
   "source": [
    "for line in data_token:\n",
    "    for i in range(1,len(line)):\n",
    "        print(line[:i+1])\n",
    "    "
   ]
  },
  {
   "cell_type": "code",
   "execution_count": 284,
   "id": "10fb7074-9d31-4103-a441-799d8a416c94",
   "metadata": {},
   "outputs": [],
   "source": [
    "x=[]\n",
    "y=[]\n",
    "for i in input_sequences:\n",
    "    x.append(i[:-1])\n",
    "    y.append(i[-1])"
   ]
  },
  {
   "cell_type": "code",
   "execution_count": 286,
   "id": "10dae9ce-ffeb-4e42-b63e-9afef6effb24",
   "metadata": {},
   "outputs": [
    {
     "data": {
      "text/plain": [
       "[[3, 4],\n",
       " [3, 4, 5],\n",
       " [3, 4, 5, 6],\n",
       " [7, 1],\n",
       " [8, 9],\n",
       " [8, 9, 10],\n",
       " [11, 1],\n",
       " [12, 13],\n",
       " [12, 13, 14],\n",
       " [12, 13, 14, 15],\n",
       " [12, 13, 14, 15, 16],\n",
       " [12, 13, 14, 15, 16, 2],\n",
       " [17, 18],\n",
       " [17, 18, 19],\n",
       " [17, 18, 19, 20],\n",
       " [17, 18, 19, 20, 21],\n",
       " [17, 18, 19, 20, 21, 22],\n",
       " [17, 18, 19, 20, 21, 22, 2]]"
      ]
     },
     "execution_count": 286,
     "metadata": {},
     "output_type": "execute_result"
    }
   ],
   "source": [
    "input_sequences"
   ]
  },
  {
   "cell_type": "code",
   "execution_count": 16,
   "id": "7ac53d4c-e348-4c76-ab53-2ac5f2bf96fd",
   "metadata": {},
   "outputs": [],
   "source": [
    "x=input_sequences[:-1]"
   ]
  },
  {
   "cell_type": "code",
   "execution_count": 163,
   "id": "a5038c4a-f393-4b86-9f9e-6a83820e975c",
   "metadata": {},
   "outputs": [],
   "source": [
    "y=input_sequences[-1]"
   ]
  },
  {
   "cell_type": "code",
   "execution_count": 165,
   "id": "dbf7b549-81b6-4408-9040-b022ed17b339",
   "metadata": {},
   "outputs": [
    {
     "data": {
      "text/plain": [
       "22"
      ]
     },
     "execution_count": 165,
     "metadata": {},
     "output_type": "execute_result"
    }
   ],
   "source": [
    "len(token.index_word)"
   ]
  },
  {
   "cell_type": "code",
   "execution_count": 288,
   "id": "834f0e3e-1ed8-4590-966d-e19b211470a6",
   "metadata": {},
   "outputs": [],
   "source": [
    "x=keras.preprocessing.sequence.pad_sequences(x,maxlen=23)"
   ]
  },
  {
   "cell_type": "code",
   "execution_count": 233,
   "id": "823eea16-5493-485f-943b-806ae1ff56f1",
   "metadata": {},
   "outputs": [],
   "source": [
    "y=np.array(y).reshape(-1,1)"
   ]
  },
  {
   "cell_type": "code",
   "execution_count": 306,
   "id": "cfdcf436-926d-40b3-87c9-63620c1c63a7",
   "metadata": {},
   "outputs": [
    {
     "data": {
      "text/plain": [
       "(18, 23)"
      ]
     },
     "execution_count": 306,
     "metadata": {},
     "output_type": "execute_result"
    }
   ],
   "source": [
    "x.shape"
   ]
  },
  {
   "cell_type": "code",
   "execution_count": 304,
   "id": "ef791e96-822e-405b-acd9-6a1cd48e861f",
   "metadata": {},
   "outputs": [],
   "source": [
    "y=np.array(y).reshape(-1,1)"
   ]
  },
  {
   "cell_type": "code",
   "execution_count": 241,
   "id": "041bf057-c0ec-481d-aedd-5a6c1adfa8c1",
   "metadata": {},
   "outputs": [
    {
     "data": {
      "text/plain": [
       "(23, 22)"
      ]
     },
     "execution_count": 241,
     "metadata": {},
     "output_type": "execute_result"
    }
   ],
   "source": [
    "x.shape"
   ]
  },
  {
   "cell_type": "code",
   "execution_count": 175,
   "id": "2560aac3-0c43-4079-8d35-51129eca68ee",
   "metadata": {},
   "outputs": [
    {
     "data": {
      "text/plain": [
       "(17, 23)"
      ]
     },
     "execution_count": 175,
     "metadata": {},
     "output_type": "execute_result"
    }
   ],
   "source": [
    "x.shape"
   ]
  },
  {
   "cell_type": "code",
   "execution_count": 177,
   "id": "850298a0-9c69-4624-b24b-b6cd620649a9",
   "metadata": {},
   "outputs": [],
   "source": [
    "x=x.reshape(23,17)"
   ]
  },
  {
   "cell_type": "code",
   "execution_count": 179,
   "id": "1b8d41b0-8087-430c-b530-4c66d8354ea2",
   "metadata": {},
   "outputs": [
    {
     "data": {
      "text/plain": [
       "array([0, 0, 0, 0, 0, 0, 0, 0, 0, 0, 0, 0, 0, 0, 0, 0, 0])"
      ]
     },
     "execution_count": 179,
     "metadata": {},
     "output_type": "execute_result"
    }
   ],
   "source": [
    "x[0]"
   ]
  },
  {
   "cell_type": "code",
   "execution_count": 308,
   "id": "260dfe52-0d6c-4ba0-a80e-4caf6aee7ee2",
   "metadata": {},
   "outputs": [
    {
     "data": {
      "text/plain": [
       "(18, 1)"
      ]
     },
     "execution_count": 308,
     "metadata": {},
     "output_type": "execute_result"
    }
   ],
   "source": [
    "y.shape"
   ]
  },
  {
   "cell_type": "code",
   "execution_count": 310,
   "id": "0c372e81-24f2-4e3a-bb44-63b0e28526f9",
   "metadata": {},
   "outputs": [],
   "source": [
    "model=keras.Sequential()\n",
    "model.add(keras.Input(shape=(23,)))\n",
    "model.add(keras.layers.Embedding(input_dim=23,output_dim=100))\n",
    "model.add(keras.layers.LSTM(80,return_sequences=True))\n",
    "model.add(keras.layers.LSTM(50))\n",
    "model.add(keras.layers.Dense(80,activation=\"relu\"))\n",
    "model.add(keras.layers.Dense(40,activation='relu'))\n",
    "model.add(keras.layers.Dense(23,activation='softmax'))"
   ]
  },
  {
   "cell_type": "code",
   "execution_count": 312,
   "id": "487cfef9-db9b-4365-a7c5-4220c65c3b21",
   "metadata": {},
   "outputs": [],
   "source": [
    "y_cat=keras.utils.to_categorical(y,num_classes=23)"
   ]
  },
  {
   "cell_type": "code",
   "execution_count": 217,
   "id": "0b8d8684-b378-43c5-af01-22462e308c15",
   "metadata": {},
   "outputs": [],
   "source": [
    "x=x.reshape(23,17)"
   ]
  },
  {
   "cell_type": "code",
   "execution_count": 129,
   "id": "f21f0a96-1e99-4c6e-8a7d-17ca95890c8a",
   "metadata": {},
   "outputs": [
    {
     "data": {
      "text/plain": [
       "(7, 23)"
      ]
     },
     "execution_count": 129,
     "metadata": {},
     "output_type": "execute_result"
    }
   ],
   "source": [
    "y_cat.shape"
   ]
  },
  {
   "cell_type": "code",
   "execution_count": 314,
   "id": "67552069-f17b-4c07-87ed-2678220469bf",
   "metadata": {},
   "outputs": [],
   "source": [
    "model.compile(loss='sparse_categorical_crossentropy',optimizer='adam',metrics=['accuracy'])"
   ]
  },
  {
   "cell_type": "code",
   "execution_count": 380,
   "id": "e8fe7d32-293d-4792-9b48-96d44649e8c3",
   "metadata": {},
   "outputs": [
    {
     "name": "stdout",
     "output_type": "stream",
     "text": [
      "Epoch 1/50\n",
      "\u001b[1m1/1\u001b[0m \u001b[32m━━━━━━━━━━━━━━━━━━━━\u001b[0m\u001b[37m\u001b[0m \u001b[1m0s\u001b[0m 186ms/step - accuracy: 0.8333 - loss: 1.1528\n",
      "Epoch 2/50\n",
      "\u001b[1m1/1\u001b[0m \u001b[32m━━━━━━━━━━━━━━━━━━━━\u001b[0m\u001b[37m\u001b[0m \u001b[1m0s\u001b[0m 128ms/step - accuracy: 0.7222 - loss: 1.1339\n",
      "Epoch 3/50\n",
      "\u001b[1m1/1\u001b[0m \u001b[32m━━━━━━━━━━━━━━━━━━━━\u001b[0m\u001b[37m\u001b[0m \u001b[1m0s\u001b[0m 139ms/step - accuracy: 0.7778 - loss: 1.1132\n",
      "Epoch 4/50\n",
      "\u001b[1m1/1\u001b[0m \u001b[32m━━━━━━━━━━━━━━━━━━━━\u001b[0m\u001b[37m\u001b[0m \u001b[1m0s\u001b[0m 140ms/step - accuracy: 0.7778 - loss: 1.0960\n",
      "Epoch 5/50\n",
      "\u001b[1m1/1\u001b[0m \u001b[32m━━━━━━━━━━━━━━━━━━━━\u001b[0m\u001b[37m\u001b[0m \u001b[1m0s\u001b[0m 308ms/step - accuracy: 0.7778 - loss: 1.0882\n",
      "Epoch 6/50\n",
      "\u001b[1m1/1\u001b[0m \u001b[32m━━━━━━━━━━━━━━━━━━━━\u001b[0m\u001b[37m\u001b[0m \u001b[1m0s\u001b[0m 125ms/step - accuracy: 0.7778 - loss: 1.0807\n",
      "Epoch 7/50\n",
      "\u001b[1m1/1\u001b[0m \u001b[32m━━━━━━━━━━━━━━━━━━━━\u001b[0m\u001b[37m\u001b[0m \u001b[1m0s\u001b[0m 140ms/step - accuracy: 0.7778 - loss: 1.0494\n",
      "Epoch 8/50\n",
      "\u001b[1m1/1\u001b[0m \u001b[32m━━━━━━━━━━━━━━━━━━━━\u001b[0m\u001b[37m\u001b[0m \u001b[1m0s\u001b[0m 189ms/step - accuracy: 0.7222 - loss: 1.0383\n",
      "Epoch 9/50\n",
      "\u001b[1m1/1\u001b[0m \u001b[32m━━━━━━━━━━━━━━━━━━━━\u001b[0m\u001b[37m\u001b[0m \u001b[1m0s\u001b[0m 445ms/step - accuracy: 0.7222 - loss: 1.0406\n",
      "Epoch 10/50\n",
      "\u001b[1m1/1\u001b[0m \u001b[32m━━━━━━━━━━━━━━━━━━━━\u001b[0m\u001b[37m\u001b[0m \u001b[1m0s\u001b[0m 331ms/step - accuracy: 0.7778 - loss: 0.9993\n",
      "Epoch 11/50\n",
      "\u001b[1m1/1\u001b[0m \u001b[32m━━━━━━━━━━━━━━━━━━━━\u001b[0m\u001b[37m\u001b[0m \u001b[1m0s\u001b[0m 117ms/step - accuracy: 0.7222 - loss: 0.9860\n",
      "Epoch 12/50\n",
      "\u001b[1m1/1\u001b[0m \u001b[32m━━━━━━━━━━━━━━━━━━━━\u001b[0m\u001b[37m\u001b[0m \u001b[1m0s\u001b[0m 92ms/step - accuracy: 0.8333 - loss: 0.9814\n",
      "Epoch 13/50\n",
      "\u001b[1m1/1\u001b[0m \u001b[32m━━━━━━━━━━━━━━━━━━━━\u001b[0m\u001b[37m\u001b[0m \u001b[1m0s\u001b[0m 111ms/step - accuracy: 0.7778 - loss: 0.9419\n",
      "Epoch 14/50\n",
      "\u001b[1m1/1\u001b[0m \u001b[32m━━━━━━━━━━━━━━━━━━━━\u001b[0m\u001b[37m\u001b[0m \u001b[1m0s\u001b[0m 90ms/step - accuracy: 0.8333 - loss: 0.9420\n",
      "Epoch 15/50\n",
      "\u001b[1m1/1\u001b[0m \u001b[32m━━━━━━━━━━━━━━━━━━━━\u001b[0m\u001b[37m\u001b[0m \u001b[1m0s\u001b[0m 91ms/step - accuracy: 0.8333 - loss: 0.9228\n",
      "Epoch 16/50\n",
      "\u001b[1m1/1\u001b[0m \u001b[32m━━━━━━━━━━━━━━━━━━━━\u001b[0m\u001b[37m\u001b[0m \u001b[1m0s\u001b[0m 101ms/step - accuracy: 0.9444 - loss: 0.8894\n",
      "Epoch 17/50\n",
      "\u001b[1m1/1\u001b[0m \u001b[32m━━━━━━━━━━━━━━━━━━━━\u001b[0m\u001b[37m\u001b[0m \u001b[1m0s\u001b[0m 165ms/step - accuracy: 0.8333 - loss: 0.8818\n",
      "Epoch 18/50\n",
      "\u001b[1m1/1\u001b[0m \u001b[32m━━━━━━━━━━━━━━━━━━━━\u001b[0m\u001b[37m\u001b[0m \u001b[1m0s\u001b[0m 111ms/step - accuracy: 0.8889 - loss: 0.8573\n",
      "Epoch 19/50\n",
      "\u001b[1m1/1\u001b[0m \u001b[32m━━━━━━━━━━━━━━━━━━━━\u001b[0m\u001b[37m\u001b[0m \u001b[1m0s\u001b[0m 149ms/step - accuracy: 0.8889 - loss: 0.8372\n",
      "Epoch 20/50\n",
      "\u001b[1m1/1\u001b[0m \u001b[32m━━━━━━━━━━━━━━━━━━━━\u001b[0m\u001b[37m\u001b[0m \u001b[1m0s\u001b[0m 112ms/step - accuracy: 0.8889 - loss: 0.8268\n",
      "Epoch 21/50\n",
      "\u001b[1m1/1\u001b[0m \u001b[32m━━━━━━━━━━━━━━━━━━━━\u001b[0m\u001b[37m\u001b[0m \u001b[1m0s\u001b[0m 112ms/step - accuracy: 0.8889 - loss: 0.7967\n",
      "Epoch 22/50\n",
      "\u001b[1m1/1\u001b[0m \u001b[32m━━━━━━━━━━━━━━━━━━━━\u001b[0m\u001b[37m\u001b[0m \u001b[1m0s\u001b[0m 118ms/step - accuracy: 0.8889 - loss: 0.7818\n",
      "Epoch 23/50\n",
      "\u001b[1m1/1\u001b[0m \u001b[32m━━━━━━━━━━━━━━━━━━━━\u001b[0m\u001b[37m\u001b[0m \u001b[1m0s\u001b[0m 104ms/step - accuracy: 0.8889 - loss: 0.7628\n",
      "Epoch 24/50\n",
      "\u001b[1m1/1\u001b[0m \u001b[32m━━━━━━━━━━━━━━━━━━━━\u001b[0m\u001b[37m\u001b[0m \u001b[1m0s\u001b[0m 85ms/step - accuracy: 0.8889 - loss: 0.7410\n",
      "Epoch 25/50\n",
      "\u001b[1m1/1\u001b[0m \u001b[32m━━━━━━━━━━━━━━━━━━━━\u001b[0m\u001b[37m\u001b[0m \u001b[1m0s\u001b[0m 104ms/step - accuracy: 0.9444 - loss: 0.7240\n",
      "Epoch 26/50\n",
      "\u001b[1m1/1\u001b[0m \u001b[32m━━━━━━━━━━━━━━━━━━━━\u001b[0m\u001b[37m\u001b[0m \u001b[1m0s\u001b[0m 166ms/step - accuracy: 0.9444 - loss: 0.7039\n",
      "Epoch 27/50\n",
      "\u001b[1m1/1\u001b[0m \u001b[32m━━━━━━━━━━━━━━━━━━━━\u001b[0m\u001b[37m\u001b[0m \u001b[1m0s\u001b[0m 294ms/step - accuracy: 0.9444 - loss: 0.6882\n",
      "Epoch 28/50\n",
      "\u001b[1m1/1\u001b[0m \u001b[32m━━━━━━━━━━━━━━━━━━━━\u001b[0m\u001b[37m\u001b[0m \u001b[1m0s\u001b[0m 110ms/step - accuracy: 0.9444 - loss: 0.6739\n",
      "Epoch 29/50\n",
      "\u001b[1m1/1\u001b[0m \u001b[32m━━━━━━━━━━━━━━━━━━━━\u001b[0m\u001b[37m\u001b[0m \u001b[1m0s\u001b[0m 157ms/step - accuracy: 0.8889 - loss: 0.6540\n",
      "Epoch 30/50\n",
      "\u001b[1m1/1\u001b[0m \u001b[32m━━━━━━━━━━━━━━━━━━━━\u001b[0m\u001b[37m\u001b[0m \u001b[1m0s\u001b[0m 121ms/step - accuracy: 0.8889 - loss: 0.6392\n",
      "Epoch 31/50\n",
      "\u001b[1m1/1\u001b[0m \u001b[32m━━━━━━━━━━━━━━━━━━━━\u001b[0m\u001b[37m\u001b[0m \u001b[1m0s\u001b[0m 96ms/step - accuracy: 0.8889 - loss: 0.6211\n",
      "Epoch 32/50\n",
      "\u001b[1m1/1\u001b[0m \u001b[32m━━━━━━━━━━━━━━━━━━━━\u001b[0m\u001b[37m\u001b[0m \u001b[1m0s\u001b[0m 151ms/step - accuracy: 0.8889 - loss: 0.6077\n",
      "Epoch 33/50\n",
      "\u001b[1m1/1\u001b[0m \u001b[32m━━━━━━━━━━━━━━━━━━━━\u001b[0m\u001b[37m\u001b[0m \u001b[1m0s\u001b[0m 125ms/step - accuracy: 1.0000 - loss: 0.5950\n",
      "Epoch 34/50\n",
      "\u001b[1m1/1\u001b[0m \u001b[32m━━━━━━━━━━━━━━━━━━━━\u001b[0m\u001b[37m\u001b[0m \u001b[1m0s\u001b[0m 145ms/step - accuracy: 0.9444 - loss: 0.5761\n",
      "Epoch 35/50\n",
      "\u001b[1m1/1\u001b[0m \u001b[32m━━━━━━━━━━━━━━━━━━━━\u001b[0m\u001b[37m\u001b[0m \u001b[1m0s\u001b[0m 111ms/step - accuracy: 1.0000 - loss: 0.5629\n",
      "Epoch 36/50\n",
      "\u001b[1m1/1\u001b[0m \u001b[32m━━━━━━━━━━━━━━━━━━━━\u001b[0m\u001b[37m\u001b[0m \u001b[1m0s\u001b[0m 100ms/step - accuracy: 1.0000 - loss: 0.5480\n",
      "Epoch 37/50\n",
      "\u001b[1m1/1\u001b[0m \u001b[32m━━━━━━━━━━━━━━━━━━━━\u001b[0m\u001b[37m\u001b[0m \u001b[1m0s\u001b[0m 141ms/step - accuracy: 1.0000 - loss: 0.5344\n",
      "Epoch 38/50\n",
      "\u001b[1m1/1\u001b[0m \u001b[32m━━━━━━━━━━━━━━━━━━━━\u001b[0m\u001b[37m\u001b[0m \u001b[1m0s\u001b[0m 92ms/step - accuracy: 1.0000 - loss: 0.5214\n",
      "Epoch 39/50\n",
      "\u001b[1m1/1\u001b[0m \u001b[32m━━━━━━━━━━━━━━━━━━━━\u001b[0m\u001b[37m\u001b[0m \u001b[1m0s\u001b[0m 87ms/step - accuracy: 1.0000 - loss: 0.5079\n",
      "Epoch 40/50\n",
      "\u001b[1m1/1\u001b[0m \u001b[32m━━━━━━━━━━━━━━━━━━━━\u001b[0m\u001b[37m\u001b[0m \u001b[1m0s\u001b[0m 171ms/step - accuracy: 1.0000 - loss: 0.4949\n",
      "Epoch 41/50\n",
      "\u001b[1m1/1\u001b[0m \u001b[32m━━━━━━━━━━━━━━━━━━━━\u001b[0m\u001b[37m\u001b[0m \u001b[1m0s\u001b[0m 138ms/step - accuracy: 1.0000 - loss: 0.4827\n",
      "Epoch 42/50\n",
      "\u001b[1m1/1\u001b[0m \u001b[32m━━━━━━━━━━━━━━━━━━━━\u001b[0m\u001b[37m\u001b[0m \u001b[1m0s\u001b[0m 111ms/step - accuracy: 1.0000 - loss: 0.4704\n",
      "Epoch 43/50\n",
      "\u001b[1m1/1\u001b[0m \u001b[32m━━━━━━━━━━━━━━━━━━━━\u001b[0m\u001b[37m\u001b[0m \u001b[1m0s\u001b[0m 152ms/step - accuracy: 1.0000 - loss: 0.4596\n",
      "Epoch 44/50\n",
      "\u001b[1m1/1\u001b[0m \u001b[32m━━━━━━━━━━━━━━━━━━━━\u001b[0m\u001b[37m\u001b[0m \u001b[1m0s\u001b[0m 92ms/step - accuracy: 1.0000 - loss: 0.4496\n",
      "Epoch 45/50\n",
      "\u001b[1m1/1\u001b[0m \u001b[32m━━━━━━━━━━━━━━━━━━━━\u001b[0m\u001b[37m\u001b[0m \u001b[1m0s\u001b[0m 173ms/step - accuracy: 1.0000 - loss: 0.4423\n",
      "Epoch 46/50\n",
      "\u001b[1m1/1\u001b[0m \u001b[32m━━━━━━━━━━━━━━━━━━━━\u001b[0m\u001b[37m\u001b[0m \u001b[1m0s\u001b[0m 252ms/step - accuracy: 1.0000 - loss: 0.4297\n",
      "Epoch 47/50\n",
      "\u001b[1m1/1\u001b[0m \u001b[32m━━━━━━━━━━━━━━━━━━━━\u001b[0m\u001b[37m\u001b[0m \u001b[1m0s\u001b[0m 193ms/step - accuracy: 1.0000 - loss: 0.4163\n",
      "Epoch 48/50\n",
      "\u001b[1m1/1\u001b[0m \u001b[32m━━━━━━━━━━━━━━━━━━━━\u001b[0m\u001b[37m\u001b[0m \u001b[1m0s\u001b[0m 158ms/step - accuracy: 1.0000 - loss: 0.4031\n",
      "Epoch 49/50\n",
      "\u001b[1m1/1\u001b[0m \u001b[32m━━━━━━━━━━━━━━━━━━━━\u001b[0m\u001b[37m\u001b[0m \u001b[1m0s\u001b[0m 150ms/step - accuracy: 1.0000 - loss: 0.3950\n",
      "Epoch 50/50\n",
      "\u001b[1m1/1\u001b[0m \u001b[32m━━━━━━━━━━━━━━━━━━━━\u001b[0m\u001b[37m\u001b[0m \u001b[1m0s\u001b[0m 110ms/step - accuracy: 1.0000 - loss: 0.3881\n"
     ]
    },
    {
     "data": {
      "text/plain": [
       "<keras.src.callbacks.history.History at 0x16318c47200>"
      ]
     },
     "execution_count": 380,
     "metadata": {},
     "output_type": "execute_result"
    }
   ],
   "source": [
    "model.fit(\n",
    "    x,y,epochs=50\n",
    ")"
   ]
  },
  {
   "cell_type": "code",
   "execution_count": 141,
   "id": "1149ef80-1e7a-4b19-b9e9-f3681137767f",
   "metadata": {},
   "outputs": [
    {
     "data": {
      "text/plain": [
       "2"
      ]
     },
     "execution_count": 141,
     "metadata": {},
     "output_type": "execute_result"
    }
   ],
   "source": [
    "x.ndim"
   ]
  },
  {
   "cell_type": "code",
   "execution_count": 145,
   "id": "da753d66-5053-4255-b732-e10de5d313ab",
   "metadata": {},
   "outputs": [
    {
     "data": {
      "text/plain": [
       "numpy.ndarray"
      ]
     },
     "execution_count": 145,
     "metadata": {},
     "output_type": "execute_result"
    }
   ],
   "source": [
    "type(x)"
   ]
  },
  {
   "cell_type": "code",
   "execution_count": 193,
   "id": "8fe5b380-df9d-4436-a651-451a26115893",
   "metadata": {},
   "outputs": [
    {
     "data": {
      "text/plain": [
       "array([[17],\n",
       "       [18],\n",
       "       [19],\n",
       "       [20],\n",
       "       [21],\n",
       "       [22],\n",
       "       [ 2]])"
      ]
     },
     "execution_count": 193,
     "metadata": {},
     "output_type": "execute_result"
    }
   ],
   "source": [
    "y"
   ]
  },
  {
   "cell_type": "code",
   "execution_count": 183,
   "id": "c436b41c-435b-434d-a2f6-241ebaa51223",
   "metadata": {},
   "outputs": [],
   "source": [
    "b=[]\n",
    "for i in y.tolist():\n",
    "    for a in i:\n",
    "        b.append(a)"
   ]
  },
  {
   "cell_type": "code",
   "execution_count": 195,
   "id": "d35f4a5e-cdef-4403-9223-facc73c2017a",
   "metadata": {},
   "outputs": [],
   "source": [
    "y=np.array(b).reshape(-)"
   ]
  },
  {
   "cell_type": "code",
   "execution_count": 197,
   "id": "5f61f8ed-0ac7-4a7f-8b3e-81b2746432c0",
   "metadata": {},
   "outputs": [
    {
     "data": {
      "text/plain": [
       "(7, 1)"
      ]
     },
     "execution_count": 197,
     "metadata": {},
     "output_type": "execute_result"
    }
   ],
   "source": [
    "y.shape"
   ]
  },
  {
   "cell_type": "code",
   "execution_count": 221,
   "id": "6780964c-7ff3-4e83-8f38-fd31114cd415",
   "metadata": {},
   "outputs": [],
   "source": [
    "y=y.reshape(-1,1)"
   ]
  },
  {
   "cell_type": "code",
   "execution_count": 382,
   "id": "451a962d-7809-48ae-8bd4-f522415d912a",
   "metadata": {},
   "outputs": [],
   "source": [
    "text='tujhe dekha to yeh jana sanam'"
   ]
  },
  {
   "cell_type": "code",
   "execution_count": 384,
   "id": "0b907868-f6a0-4031-8599-d6ade3022fbd",
   "metadata": {},
   "outputs": [],
   "source": [
    "t=token.texts_to_sequences([text])"
   ]
  },
  {
   "cell_type": "code",
   "execution_count": 385,
   "id": "47ec32ee-cbbd-46ee-983d-b94f716417ae",
   "metadata": {},
   "outputs": [],
   "source": [
    "pad=keras.preprocessing.sequence.pad_sequences(t,maxlen=23)"
   ]
  },
  {
   "cell_type": "code",
   "execution_count": 388,
   "id": "ad141c06-9d06-4a0d-af8f-0b7b5ec84481",
   "metadata": {},
   "outputs": [
    {
     "data": {
      "text/plain": [
       "(1, 23)"
      ]
     },
     "execution_count": 388,
     "metadata": {},
     "output_type": "execute_result"
    }
   ],
   "source": [
    "pad.shape"
   ]
  },
  {
   "cell_type": "code",
   "execution_count": 390,
   "id": "adf32ba0-104d-4c46-9f80-e06945828967",
   "metadata": {},
   "outputs": [
    {
     "name": "stdout",
     "output_type": "stream",
     "text": [
      "\u001b[1m1/1\u001b[0m \u001b[32m━━━━━━━━━━━━━━━━━━━━\u001b[0m\u001b[37m\u001b[0m \u001b[1m0s\u001b[0m 78ms/step\n"
     ]
    },
    {
     "data": {
      "text/plain": [
       "'hain'"
      ]
     },
     "execution_count": 390,
     "metadata": {},
     "output_type": "execute_result"
    }
   ],
   "source": [
    "token.index_word[np.argmax(model.predict(pad))]"
   ]
  },
  {
   "cell_type": "code",
   "execution_count": 340,
   "id": "bda3ffa6-2b1b-4c7b-85ce-d571c64224bf",
   "metadata": {},
   "outputs": [
    {
     "data": {
      "text/plain": [
       "'to'"
      ]
     },
     "execution_count": 340,
     "metadata": {},
     "output_type": "execute_result"
    }
   ],
   "source": [
    "token.index_word[5]"
   ]
  },
  {
   "cell_type": "code",
   "execution_count": null,
   "id": "d6ba7bf8-edab-44db-9e5c-c9665fbbf43f",
   "metadata": {},
   "outputs": [],
   "source": []
  }
 ],
 "metadata": {
  "kernelspec": {
   "display_name": "Python 3 (ipykernel)",
   "language": "python",
   "name": "python3"
  },
  "language_info": {
   "codemirror_mode": {
    "name": "ipython",
    "version": 3
   },
   "file_extension": ".py",
   "mimetype": "text/x-python",
   "name": "python",
   "nbconvert_exporter": "python",
   "pygments_lexer": "ipython3",
   "version": "3.12.7"
  }
 },
 "nbformat": 4,
 "nbformat_minor": 5
}
